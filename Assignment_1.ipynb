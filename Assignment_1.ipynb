{
 "cells": [
  {
   "cell_type": "markdown",
   "id": "a1924479",
   "metadata": {},
   "source": [
    "## Importing required libraries"
   ]
  },
  {
   "cell_type": "code",
   "execution_count": 14,
   "id": "c9315197",
   "metadata": {},
   "outputs": [],
   "source": [
    "import wget # for downloading files\n",
    "import zipfile # for reading zipfiles\n",
    "import pandas as pd # for manipulating and storing data\n",
    "from datetime import datetime # for manipulating timestamp"
   ]
  },
  {
   "cell_type": "code",
   "execution_count": 15,
   "id": "f479f2c5",
   "metadata": {},
   "outputs": [],
   "source": [
    "link1 = 'https://data.binance.vision/data/spot/daily/trades/BTCUSDT/BTCUSDT-trades-2022-03-01.zip' # trades done on 1st March 2022\n",
    "link2 = 'https://data.binance.vision/data/spot/daily/trades/BTCUSDT/BTCUSDT-trades-2022-03-02.zip' # trades done on 2nd March 2022\n",
    "link3 = 'https://data.binance.vision/data/spot/daily/trades/BTCUSDT/BTCUSDT-trades-2022-03-03.zip' # trades done on 3rd March 2022\n",
    "links = [link1, link2, link3]"
   ]
  },
  {
   "cell_type": "code",
   "execution_count": 25,
   "id": "f298e078",
   "metadata": {},
   "outputs": [
    {
     "name": "stdout",
     "output_type": "stream",
     "text": [
      "100% [........................................................................] 19166497 / 19166497"
     ]
    }
   ],
   "source": [
    "def to_datetime(x):\n",
    "    return datetime.fromtimestamp(x / 1000.0)    # Function to change timestamp into datetime\n",
    "\n",
    "\n",
    "data = pd.DataFrame() # creating empty dataframe\n",
    "for link in links:\n",
    "    filename = wget.download(link) # using wget library to download the zip files\n",
    "    zf = zipfile.ZipFile('./'+filename) # reading the zip files\n",
    "    datafile = zf.namelist()[0] # storing the name of the file in a variable\n",
    "    # reading the zipped csv file and appending it to the dataframe\n",
    "    data = data.append(pd.read_csv(zf.open(datafile[:-4]+'.csv'), header = None), ignore_index = True) \n",
    "data = data.iloc[:,1:5] # keeping the required columns\n",
    "data.columns = ['Traded_Price', 'Traded_Size', 'Traded_Notional', 'Timestamp'] # naming the columns\n",
    "data.Timestamp = data.Timestamp.apply(to_datetime)    # applying to_datetime function on all elements of Timestamp column\n",
    "data.to_csv('trades.csv') # storing the dataframe in a csv file"
   ]
  },
  {
   "cell_type": "code",
   "execution_count": 22,
   "id": "34524073",
   "metadata": {},
   "outputs": [],
   "source": [
    "data.Timestamp = data.Timestamp / 1000.0"
   ]
  },
  {
   "cell_type": "code",
   "execution_count": 26,
   "id": "edc0aaee",
   "metadata": {},
   "outputs": [],
   "source": [
    "#data.Timestamp = data.Timestamp.apply(to_datetime)    # applying to_datetime function on all elements of Timestamp column\n",
    "data.to_csv('trades.csv') # storing the dataframe in a csv file"
   ]
  },
  {
   "cell_type": "code",
   "execution_count": 27,
   "id": "82639514",
   "metadata": {},
   "outputs": [
    {
     "data": {
      "text/html": [
       "<div>\n",
       "<style scoped>\n",
       "    .dataframe tbody tr th:only-of-type {\n",
       "        vertical-align: middle;\n",
       "    }\n",
       "\n",
       "    .dataframe tbody tr th {\n",
       "        vertical-align: top;\n",
       "    }\n",
       "\n",
       "    .dataframe thead th {\n",
       "        text-align: right;\n",
       "    }\n",
       "</style>\n",
       "<table border=\"1\" class=\"dataframe\">\n",
       "  <thead>\n",
       "    <tr style=\"text-align: right;\">\n",
       "      <th></th>\n",
       "      <th>Traded_Price</th>\n",
       "      <th>Traded_Size</th>\n",
       "      <th>Traded_Notional</th>\n",
       "      <th>Timestamp</th>\n",
       "    </tr>\n",
       "  </thead>\n",
       "  <tbody>\n",
       "    <tr>\n",
       "      <th>0</th>\n",
       "      <td>43160.00</td>\n",
       "      <td>0.00056</td>\n",
       "      <td>24.169600</td>\n",
       "      <td>2022-03-01 05:30:00.000</td>\n",
       "    </tr>\n",
       "    <tr>\n",
       "      <th>1</th>\n",
       "      <td>43160.01</td>\n",
       "      <td>0.00052</td>\n",
       "      <td>22.443205</td>\n",
       "      <td>2022-03-01 05:30:00.003</td>\n",
       "    </tr>\n",
       "    <tr>\n",
       "      <th>2</th>\n",
       "      <td>43160.01</td>\n",
       "      <td>0.00182</td>\n",
       "      <td>78.551218</td>\n",
       "      <td>2022-03-01 05:30:00.004</td>\n",
       "    </tr>\n",
       "    <tr>\n",
       "      <th>3</th>\n",
       "      <td>43160.01</td>\n",
       "      <td>0.00631</td>\n",
       "      <td>272.339663</td>\n",
       "      <td>2022-03-01 05:30:00.005</td>\n",
       "    </tr>\n",
       "    <tr>\n",
       "      <th>4</th>\n",
       "      <td>43160.00</td>\n",
       "      <td>0.00229</td>\n",
       "      <td>98.836400</td>\n",
       "      <td>2022-03-01 05:30:00.006</td>\n",
       "    </tr>\n",
       "    <tr>\n",
       "      <th>...</th>\n",
       "      <td>...</td>\n",
       "      <td>...</td>\n",
       "      <td>...</td>\n",
       "      <td>...</td>\n",
       "    </tr>\n",
       "    <tr>\n",
       "      <th>4809317</th>\n",
       "      <td>42454.01</td>\n",
       "      <td>0.00124</td>\n",
       "      <td>52.642972</td>\n",
       "      <td>2022-03-04 05:29:59.996</td>\n",
       "    </tr>\n",
       "    <tr>\n",
       "      <th>4809318</th>\n",
       "      <td>42454.00</td>\n",
       "      <td>0.00257</td>\n",
       "      <td>109.106780</td>\n",
       "      <td>2022-03-04 05:29:59.996</td>\n",
       "    </tr>\n",
       "    <tr>\n",
       "      <th>4809319</th>\n",
       "      <td>42454.01</td>\n",
       "      <td>0.00054</td>\n",
       "      <td>22.925165</td>\n",
       "      <td>2022-03-04 05:29:59.997</td>\n",
       "    </tr>\n",
       "    <tr>\n",
       "      <th>4809320</th>\n",
       "      <td>42454.01</td>\n",
       "      <td>0.00198</td>\n",
       "      <td>84.058940</td>\n",
       "      <td>2022-03-04 05:29:59.997</td>\n",
       "    </tr>\n",
       "    <tr>\n",
       "      <th>4809321</th>\n",
       "      <td>42454.00</td>\n",
       "      <td>0.00052</td>\n",
       "      <td>22.076080</td>\n",
       "      <td>2022-03-04 05:29:59.999</td>\n",
       "    </tr>\n",
       "  </tbody>\n",
       "</table>\n",
       "<p>4809322 rows × 4 columns</p>\n",
       "</div>"
      ],
      "text/plain": [
       "         Traded_Price  Traded_Size  Traded_Notional               Timestamp\n",
       "0            43160.00      0.00056        24.169600 2022-03-01 05:30:00.000\n",
       "1            43160.01      0.00052        22.443205 2022-03-01 05:30:00.003\n",
       "2            43160.01      0.00182        78.551218 2022-03-01 05:30:00.004\n",
       "3            43160.01      0.00631       272.339663 2022-03-01 05:30:00.005\n",
       "4            43160.00      0.00229        98.836400 2022-03-01 05:30:00.006\n",
       "...               ...          ...              ...                     ...\n",
       "4809317      42454.01      0.00124        52.642972 2022-03-04 05:29:59.996\n",
       "4809318      42454.00      0.00257       109.106780 2022-03-04 05:29:59.996\n",
       "4809319      42454.01      0.00054        22.925165 2022-03-04 05:29:59.997\n",
       "4809320      42454.01      0.00198        84.058940 2022-03-04 05:29:59.997\n",
       "4809321      42454.00      0.00052        22.076080 2022-03-04 05:29:59.999\n",
       "\n",
       "[4809322 rows x 4 columns]"
      ]
     },
     "execution_count": 27,
     "metadata": {},
     "output_type": "execute_result"
    }
   ],
   "source": [
    "data"
   ]
  }
 ],
 "metadata": {
  "kernelspec": {
   "display_name": "Python 3 (ipykernel)",
   "language": "python",
   "name": "python3"
  },
  "language_info": {
   "codemirror_mode": {
    "name": "ipython",
    "version": 3
   },
   "file_extension": ".py",
   "mimetype": "text/x-python",
   "name": "python",
   "nbconvert_exporter": "python",
   "pygments_lexer": "ipython3",
   "version": "3.9.7"
  }
 },
 "nbformat": 4,
 "nbformat_minor": 5
}
